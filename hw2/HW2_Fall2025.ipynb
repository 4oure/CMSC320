{
  "cells": [
    {
      "cell_type": "markdown",
      "metadata": {
        "id": "vKLgKS1btvRB"
      },
      "source": [
        "# **HOMEWORK 2: BRAIN CONDITIONING STATS** 📊\n",
        "## **DUE: *Oct 02, 2025 @ 11:59 PM***\n",
        "## **24-HR LATE DUE DATE WITH A 15% PENALTY: *Oct 3, 2025 @ 11:59 PM***\n"
      ]
    },
    {
      "cell_type": "markdown",
      "metadata": {
        "id": "uQmzLo3dt1Hm"
      },
      "source": [
        "**Objective:**  \n",
        "\n",
        "The aim of this assignment is to deepen students' understanding of statistics and hypothesis testing using Python. By engaging with some theortical questions as well as practical exercises, students will apply statistical methods and perform hypothesis tests, using Python to code and execute these techniques. This approach will help solidify their grasp of statistical principles and their application in Python, bridging theoretical knowledge with practical skills.\n",
        "\n",
        "Overview:\n",
        "\n",
        "\n",
        "*   This assignment is worth 120 points.\n",
        "*   There are 3 mandatory parts to complete in this section (DON'T REMOVE ANY PART OF THE QUESTIONS).\n",
        "*   Make a local copy, read all of the instructions carefully, and complete all tasks.\n",
        "\n",
        "\n",
        "Submission:\n",
        "\n",
        "*   Submit your completed notebook (.ipynb) file and PDF to the \"HW2 - Brain Conditioning Stats\" section in Gradescope.\n",
        "\n",
        "\n",
        "\n",
        "\n",
        "\n",
        "\n",
        "\n",
        "### **Reminder: Please make sure your code runs before submitting your work. Code sections that do not run will receive 0 credits, no partials will be given. This is VERY important in real project development.**\n",
        "### **DO NOT REMOVE ANY PART OF ANY OF THE QUESTIONS OR YOU LOSE CREDIT**\n",
        "### *No Hardcoding either*  😋📉\n"
      ]
    },
    {
      "cell_type": "markdown",
      "metadata": {
        "id": "QhnhliH6Fdga"
      },
      "source": [
        "# **Part 1: Statistics Problem Solving**"
      ]
    },
    {
      "cell_type": "code",
      "execution_count": null,
      "metadata": {
        "id": "AwbaiZfPCYzY"
      },
      "outputs": [],
      "source": []
    },
    {
      "cell_type": "markdown",
      "metadata": {
        "id": "hwJSnRGwG2p7"
      },
      "source": [
        "##Q1) (10 POINTS) Bayes Theorem\n"
      ]
    },
    {
      "cell_type": "markdown",
      "metadata": {
        "id": "sDMy_c7bGSFq"
      },
      "source": [
        "Suppose some hacker found a dataset on uselessdatasets.com containing information about three different types of users on an online platform: \"bloggers\", \"shoppers\", and \"reviewers\". The data has 13,000 users. There are 5,500 bloggers, 7,000 shoppers, and 6,500 reviewers. The users could be in multiple categories. 2,200 of the bloggers are shoppers, 1,800 of the bloggers are reviewers, and 3,000 shoppers are also reviewers.\n",
        "\n",
        "Answer the following questions in the designated boxes:"
      ]
    },
    {
      "cell_type": "markdown",
      "metadata": {
        "id": "tpJaCCIWHb-q"
      },
      "source": [
        "1. (3 POINTS) If $X$ is a random variable that represents the users that were cross listed into all 3 categories, what is the value of $X$? (Hint: think of a Venn Diagram.)\n",
        "\n",
        "> Write down your answer.\n",
        "\n",
        "\n",
        "\n",
        "|B u S u R| = |B| + |S| + |R| - |B n S| - |B n R| - |S n R| + |B n S n R|\n",
        "\n",
        "|B u S u R| <= 13,000\n",
        "\n",
        "|B u S u R| = 5,500 + 7,000 + 6,500 - 2,200 - 1,800 - 3,000 + X\n",
        "\n",
        "\n",
        " = 12,000 + X\n",
        "\n",
        "12,000 + X <= 13000\n",
        "\n",
        "x <= 1000\n",
        "\n",
        "\n",
        "\n",
        "X = 1000\n",
        "\n"
      ]
    },
    {
      "cell_type": "markdown",
      "metadata": {
        "id": "iSI0rgMFHeqV"
      },
      "source": [
        "2. (3 POINTS) Calculate the probability that a randomly selected shopper is also a blogger. Round to the nearest hundredth. (Hint: Use Bayes Theorem)\n",
        "\n",
        "> Write down your answer.\n",
        ">\n",
        "> \n",
        "\n",
        ".31\n"
      ]
    },
    {
      "cell_type": "markdown",
      "metadata": {
        "id": "EdwmsNa_Hexi"
      },
      "source": [
        "3. (4 POINTS) Calculate the probability that a random user is in exactly two categories but not all three. Round to the nearest hundredth.\n",
        "\n",
        "> Write down your answer.\n",
        "\n",
        ".31\n",
        "\n"
      ]
    },
    {
      "cell_type": "markdown",
      "metadata": {
        "id": "tY38nVLZIL0O"
      },
      "source": [
        "##Q2) (6 POINTS) Expected Values\n"
      ]
    },
    {
      "cell_type": "markdown",
      "metadata": {
        "id": "S8XTaX1Lcg1T"
      },
      "source": [
        "Let $T$ be the set of all sequences of two rolls of a dice. Let $S$ be the set of all sequences of three rolls of a dice. Let $X_n$ be the sum of the number of dots on $n$ dice rolls.\n",
        "\n",
        "Answer the following questions in the designated boxes:\n"
      ]
    },
    {
      "cell_type": "markdown",
      "metadata": {
        "id": "MJGNtK5eck07"
      },
      "source": [
        "1. (3 POINTS) What is $\\mathbb{E}[X_2]$?\n",
        "\n",
        "> Write down your answer.\n",
        "\n",
        "7\n"
      ]
    },
    {
      "cell_type": "markdown",
      "metadata": {
        "id": "P2GzKvNAcuKD"
      },
      "source": [
        "2. (3 POINTS) What is $\\mathbb{E}[X_3]$?\n",
        "\n",
        "> Write down your answer.\n",
        "\n",
        "10.5\n"
      ]
    },
    {
      "cell_type": "markdown",
      "metadata": {
        "id": "_lrY31ZOc6cV"
      },
      "source": [
        "##Q3) (6 POINTS) Probability distribution"
      ]
    },
    {
      "cell_type": "markdown",
      "metadata": {
        "id": "5i8SGbTPdAB9"
      },
      "source": [
        "Let  $X$  be a continuous random variable that follows a normal distribution with mean  $\\mu = 10$  and standard deviation  $\\sigma = 2$.\n",
        "\n",
        "Answer the following questions in the designated boxes:"
      ]
    },
    {
      "cell_type": "markdown",
      "metadata": {
        "id": "iBWOOR8RdMRQ"
      },
      "source": [
        "1. (3 POINTS) What is the probability that $X$ takes a value between 6 and 12?\n",
        "Hints: You may have to utilize the standard normal table: https://math.arizona.edu/~jwatkins/normal-table.pdf\n",
        "\n",
        "\n",
        "\n",
        "\n",
        "> **How to read the \"Standard Normal Cumulative Probability Table\" table:**\n",
        "\n",
        "\n",
        "*   Rows and Columns: The rows correspond to the first digit and first decimal place of z. The columns correspond to the second decimal place of z.\n",
        "*   Check out: https://byjus.com/maths/z-score-table/\n",
        "\n",
        "\n",
        "\n",
        "> Write down your answer.\n",
        "\n",
        "\n",
        ".82, rounded from .8185\n",
        "\n",
        "\n",
        "\n"
      ]
    },
    {
      "cell_type": "markdown",
      "metadata": {
        "id": "uk5gSI7Yhbgi"
      },
      "source": [
        "2. (3 POINTS) What is the probability that $X$ takes a value greater than 15?\n",
        "\n",
        "> Write down your answer.\n",
        "\n",
        "\n",
        ".0062\n"
      ]
    },
    {
      "cell_type": "markdown",
      "metadata": {
        "id": "qd62j-z1FlKj"
      },
      "source": [
        "# **Part 2: Python Warmups**"
      ]
    },
    {
      "cell_type": "markdown",
      "metadata": {
        "id": "LtrQ-Vrdczic"
      },
      "source": [
        "##Q1) (10 POINTS) Bernoulli Trials\n",
        "\n",
        "Consider a sequence of $n$ Bernoulli trials with success probability $p$ per trial. A string of consecutive successes is known as a *streak*.\n",
        "\n",
        "> **Task to do:** Write a function that returns a `collections.Counter` dictionary object that maps the length of a streak $k$ to the number of times it is observed in an input sequence `xs`. For example, if `xs = [0, 1, 0, 1, 1, 0, 1, 1, 1, 0, 1, 1, 1, 0, 0, 1]`, the output would be `Counter({1: 2, 2: 1, 3: 2})`. We have imported `Counter` from the Python `collections` library for you in the code block below. The order of the keys in the Counter does not matter, unsorted is fine.\n"
      ]
    },
    {
      "cell_type": "code",
      "execution_count": null,
      "metadata": {
        "id": "EjCkESEmc9Cz"
      },
      "outputs": [],
      "source": [
        "from collections import Counter\n",
        "\n",
        "\n",
        "def count_streaks(xs):\n",
        "    counts = Counter()\n",
        "    streak = 0\n",
        "    for x in xs:\n",
        "        if x == 1:\n",
        "            streak += 1\n",
        "        else:\n",
        "            if streak > 0:\n",
        "                counts[streak] += 1\n",
        "                streak = 0\n",
        "    if streak > 0:\n",
        "        counts[streak] += 1\n",
        "    return counts\n",
        "\n"
      ]
    },
    {
      "cell_type": "code",
      "execution_count": 3,
      "metadata": {
        "colab": {
          "base_uri": "https://localhost:8080/"
        },
        "id": "J2w_2uB7dQin",
        "outputId": "8183330c-7e4b-42e4-cb28-323f54220949"
      },
      "outputs": [
        {
          "name": "stdout",
          "output_type": "stream",
          "text": [
            "Counter({1: 2, 3: 2, 2: 1})\n"
          ]
        },
        {
          "data": {
            "text/plain": [
              "Counter({1: 125036,\n",
              "         2: 62589,\n",
              "         3: 31100,\n",
              "         4: 15859,\n",
              "         5: 7699,\n",
              "         6: 3893,\n",
              "         7: 1921,\n",
              "         8: 946,\n",
              "         9: 470,\n",
              "         10: 245,\n",
              "         11: 126,\n",
              "         12: 45,\n",
              "         13: 29,\n",
              "         14: 11,\n",
              "         15: 9,\n",
              "         17: 6,\n",
              "         16: 2,\n",
              "         18: 1})"
            ]
          },
          "execution_count": 3,
          "metadata": {},
          "output_type": "execute_result"
        }
      ],
      "source": [
        "# Use this cell to test your answer. MAKE SURE YOUR RESULTS ARE SHOWN BELOW AFTER RUNNING THIS BOX\n",
        "import numpy as np\n",
        "print(count_streaks([0, 1, 0, 1, 1, 0, 1, 1, 1, 0, 1, 1, 1, 0, 0, 1]))\n",
        "np.random.seed(0)\n",
        "count_streaks(np.random.randint(0,2,1000000))"
      ]
    },
    {
      "cell_type": "markdown",
      "metadata": {
        "id": "soG82SCihwDT"
      },
      "source": [
        "##Q2) (10 POINTS) Distribution and Visualization\n",
        "\n",
        "The goal of solving this problem is to become familiar with using built-in Python libraries to create various distributions. Plotting serves as an initial step toward data visualization."
      ]
    },
    {
      "cell_type": "markdown",
      "metadata": {
        "id": "Yh5maPG3iKSZ"
      },
      "source": [
        "1. (3 POINTS) Create a normally distributed random variable with mean $\\mu = 0$, standard deviation $\\sigma = 5$ and sample size $n=1000$. Plot the histogram. Add labels and titles and other details as desired to make your plot understandable. You must use the packages `numpy` and `matplotlib`."
      ]
    },
    {
      "cell_type": "code",
      "execution_count": 11,
      "metadata": {
        "id": "GGE_YQ2eiJPh"
      },
      "outputs": [
        {
          "data": {
            "image/png": "[encoded data removed]",
            "text/plain": [
              "<Figure size 640x480 with 1 Axes>"
            ]
          },
          "metadata": {},
          "output_type": "display_data"
        }
      ],
      "source": [
        "import numpy as np\n",
        "import matplotlib.pyplot as plt\n",
        "\n",
        "# Parameters\n",
        "mu = 0      # Mean\n",
        "sigma = 5   # Standard deviation\n",
        "size = 1000 # Number of samples\n",
        "\n",
        "# Generate random samples\n",
        "samples = np.random.normal(mu, sigma, size)\n",
        "\n",
        "# Plot the histogram\n",
        "plt.hist(samples, bins=30, density=True, alpha=.6, color='skyblue', edgecolor='black')\n",
        "\n",
        "# Labels and title\n",
        "plt.xlabel('Value')\n",
        "plt.ylabel('Frequency Density')\n",
        "plt.title('Histogram of Normally Distributed Samples with mean = {mu}, std = {sigma}, sample size = {size}'.format(mu=mu, sigma=sigma, size=size))\n",
        "plt.grid(True)\n",
        "\n",
        "# Show plot\n",
        "plt.show()"
      ]
    },
    {
      "cell_type": "markdown",
      "metadata": {
        "id": "9WZvmUTZmx11"
      },
      "source": [
        "2. (7 POINTS) We are exploring the Central Limit Theorem (CLT) using a Poisson distribution. Suppose you have a population that follows a Poisson distribution with a rate parameter (or mean)  $\\lambda = 3$ . You will draw multiple samples from this population and calculate the mean of each sample.\n",
        "\n",
        "Write a Python function that simulates this process. The input of the function should be the sample size, the number of samples, and lambda. The function should:\n",
        "1. Generate a population with a Poisson distribution (check: https://numpy.org/doc/stable/reference/random/generated/numpy.random.poisson.html).\n",
        "2. Draw multiple samples and calculate the mean of each sample.\n",
        "3. Return these means as an iterable.\n",
        "\n",
        "*There will be no partial credit granted for this question. Any hardcoded results will receive a 0.*"
      ]
    },
    {
      "cell_type": "code",
      "execution_count": 13,
      "metadata": {
        "id": "Q7HqSg1AnHy4"
      },
      "outputs": [],
      "source": [
        "import numpy as np\n",
        "\n",
        "def poisson_clt_simulator(sample_size, num_samples, lambda_):\n",
        "    sample_means = []\n",
        "    for _ in range(num_samples):\n",
        "        sample = np.random.poisson(lam=lambda_, size=sample_size)\n",
        "        sample_means.append(sample.mean()) # Think carefully what you are appending here, refer to variable name\n",
        "    return sample_means"
      ]
    },
    {
      "cell_type": "markdown",
      "metadata": {
        "id": "hcIu1vJCqUTj"
      },
      "source": [
        "  Now use the function to generate 1,000 sample means with sample size 50. Plot the distribution of these sample means to visualize the Central Limit Theorem. Add labels and titles and other details as desired to make your plot understandable."
      ]
    },
    {
      "cell_type": "code",
      "execution_count": 17,
      "metadata": {
        "id": "jWy2qFXtrfSm"
      },
      "outputs": [
        {
          "data": {
            "image/png": "[encoded data removed]",
            "text/plain": [
              "<Figure size 640x480 with 1 Axes>"
            ]
          },
          "metadata": {},
          "output_type": "display_data"
        }
      ],
      "source": [
        "import matplotlib.pyplot as plt\n",
        "\n",
        "# Parameters\n",
        "sample_size = 50\n",
        "num_samples = 1000\n",
        "lambda_ = 3\n",
        "\n",
        "# Simulate and get sample means\n",
        "sample_means = poisson_clt_simulator(sample_size, num_samples, lambda_)\n",
        "\n",
        "# Plot the distribution of sample means\n",
        "plt.hist(sample_means, bins=30, density=True, alpha=0.7, color='lightgreen', edgecolor='black')\n",
        "\n",
        "# Add labels and title\n",
        "plt.xlabel('Sample Mean')\n",
        "plt.ylabel('Density')\n",
        "plt.title('Distribution of Sample Means (CLT Visualization for Poisson)')\n",
        "\n",
        "# Show plot\n",
        "plt.show()"
      ]
    },
    {
      "cell_type": "markdown",
      "metadata": {
        "id": "-vIf9sj-rAuk"
      },
      "source": [
        "##Q3) (18 POINTS) More on Distributions\n",
        "\n"
      ]
    },
    {
      "cell_type": "markdown",
      "metadata": {
        "id": "GbpadK721M9L"
      },
      "source": [
        "You can't get around with distributions while data sciencing. Let's explore how distributions are related to each other."
      ]
    },
    {
      "cell_type": "markdown",
      "metadata": {
        "id": "WSNFwHvQ111k"
      },
      "source": [
        "**1. (6 POINTS)** Since we have successfully demonstrated how CLT works, lets see what we can do with it.\n",
        "\n",
        "*Check out https://numpy.org/doc/stable/reference/random/generated/numpy.random.binomial.html for how to create independent binomial distributions*\n"
      ]
    },
    {
      "cell_type": "markdown",
      "metadata": {
        "id": "l41MNSr63cZG"
      },
      "source": [
        "\n",
        "**TASK:** Show that a Binomial$( n, p )$ distribution approximates a Normal distribution when n is LARGE (due to CLT).\n",
        "Complete the following code according to comments."
      ]
    },
    {
      "cell_type": "code",
      "execution_count": 21,
      "metadata": {
        "id": "6e--jGg14BLg"
      },
      "outputs": [
        {
          "data": {
            "image/png": "[encoded data removed]",
            "text/plain": [
              "<Figure size 640x480 with 1 Axes>"
            ]
          },
          "metadata": {},
          "output_type": "display_data"
        }
      ],
      "source": [
        "import numpy as np\n",
        "import matplotlib.pyplot as plt\n",
        "\n",
        "size = 10000\n",
        "n, p = 50, 0.5  # Large n for normal approximation\n",
        "binomial_samples = np.random.binomial(n=n, p=p, size=size)\n",
        "normal_samples = np.random.normal(loc=n*p, scale=np.sqrt(n*p*(1-p)), size=size) # Don't worry about this line unless you are interested\n",
        "\n",
        "plt.hist(binomial_samples, bins=50, density=True, alpha=0.6, label=\"Binomial(50,0.5)\")\n",
        "plt.hist(normal_samples, bins=50, density=True, alpha=0.6, label=\"Normal Approximation\")\n",
        "plt.legend()\n",
        "plt.title(\"Binomial vs. Normal Approximation\")\n",
        "plt.xlabel(\"Value\")\n",
        "plt.ylabel(\"Density\")\n",
        "plt.show()"
      ]
    },
    {
      "cell_type": "markdown",
      "metadata": {
        "id": "ZrcwdGRf5Ug0"
      },
      "source": [
        "**2. (6 POINTS)** Now with Poisson\n",
        "\n",
        "*Check out https://numpy.org/doc/stable/reference/random/generated/numpy.random.poisson.html for how to create independent poisson distributions*"
      ]
    },
    {
      "cell_type": "markdown",
      "metadata": {
        "id": "Dso81KYy5zt9"
      },
      "source": [
        "**TASK:** Show that when n is large and p is small, a Binomial$( n, p )$ distribution approximates a Poisson distribution with  $\\lambda = np$.\n",
        "Complete the following code according to comments."
      ]
    },
    {
      "cell_type": "code",
      "execution_count": 27,
      "metadata": {
        "id": "kA4nORaM6QhT"
      },
      "outputs": [
        {
          "data": {
            "image/png": "[encoded data removed]",
            "text/plain": [
              "<Figure size 640x480 with 1 Axes>"
            ]
          },
          "metadata": {},
          "output_type": "display_data"
        }
      ],
      "source": [
        "size = 10000\n",
        "n, p = 100, 0.05  # np = 5, small p\n",
        "binomial_samples = np.random.binomial(n=n, p=p, size=size)\n",
        "\n",
        "poisson_samples = np.random.poisson(lam=n*p, size=size)\n",
        "\n",
        "plt.hist(binomial_samples, bins=20, density=True, alpha=0.6, label=\"Binomial(100, 0.05)\")\n",
        "plt.hist(poisson_samples, bins=20, density=True, alpha=0.6, label=\"Poisson(λ=5)\")\n",
        "plt.legend()\n",
        "plt.title(\"Poisson Approximation to Binomial\")\n",
        "plt.xlabel(\"Value\")\n",
        "plt.ylabel(\"Density\")\n",
        "plt.show()"
      ]
    },
    {
      "cell_type": "markdown",
      "metadata": {
        "id": "J6bGAi_f7oXX"
      },
      "source": [
        "**3. (6 POINTS)** Poisson and Exponential\n"
      ]
    },
    {
      "cell_type": "markdown",
      "metadata": {
        "id": "1i5TaSYL7zDv"
      },
      "source": [
        "We know that Poisson counts the number of arrivals, while Exponential models the time between them.\n",
        "\n",
        "**TASK:** Plot a Poisson distribution and an Exponential distribution. You do not have to describe and justify your findings.\n",
        "\n",
        "*Check out https://numpy.org/doc/stable/reference/random/generated/numpy.random.exponential.html *\n",
        "\n",
        "\n",
        "\n"
      ]
    },
    {
      "cell_type": "markdown",
      "metadata": {
        "id": "H58TflBzD3Sd"
      },
      "source": [
        "> **NOTES: **If you dont know about Exponensial Distribution, check out:\n",
        "\n",
        "\n",
        "*   https://www.probabilitycourse.com/chapter4/4_2_2_exponential.php\n",
        "*   https://www.ncl.ac.uk/webtemplate/ask-assets/external/maths-resources/business/probability/exponential-distribution.html\n",
        "\n",
        "\n",
        "\n",
        "\n",
        "\n"
      ]
    },
    {
      "cell_type": "markdown",
      "metadata": {
        "id": "FRdCRFyJD3nC"
      },
      "source": [
        "Complete the following code according to comments."
      ]
    },
    {
      "cell_type": "code",
      "execution_count": 34,
      "metadata": {
        "id": "CxtOzsiJ8H-b"
      },
      "outputs": [
        {
          "data": {
            "image/png": "[encoded data removed]",
            "text/plain": [
              "<Figure size 640x480 with 1 Axes>"
            ]
          },
          "metadata": {},
          "output_type": "display_data"
        }
      ],
      "source": [
        "size = 10000\n",
        "lambda_exp = 3  # rate for Poisson\n",
        "\n",
        "poisson_time_intervals =  np.random.poisson(lam=lambda_exp, size=size)\n",
        "exponential_samples = np.random.exponential(scale=1/lambda_exp, size=size)\n",
        "\n",
        "plt.hist(exponential_samples, bins=50, density=True, alpha=0.6, label=\"Exponential\")\n",
        "plt.legend()\n",
        "plt.title(\"Exponential Distribution as Interarrival Times\")\n",
        "plt.xlabel(\"Value\")\n",
        "plt.ylabel(\"Density\")\n",
        "plt.show()"
      ]
    },
    {
      "cell_type": "markdown",
      "metadata": {
        "id": "E8O0YGnV4Cbp"
      },
      "source": [
        "# **Part 3: Hypothesis Testing**"
      ]
    },
    {
      "cell_type": "markdown",
      "metadata": {
        "id": "lr1gnMPH4K95"
      },
      "source": [
        "##Q1) (14 POINTS) Hypothesis Tests and P_value"
      ]
    },
    {
      "cell_type": "markdown",
      "metadata": {
        "id": "fp9tnOacNuMX"
      },
      "source": [
        "**TASK:** For the next 5 problems, please describe when you would use each hypothesis test. Answer the questions in the designated boxes:"
      ]
    },
    {
      "cell_type": "markdown",
      "metadata": {
        "id": "gMYJ8tll4cTM"
      },
      "source": [
        "\n",
        "\n",
        "*   Chi-Squared Test\n",
        "*   Z test\n",
        "*   T test\n",
        "*   Mann-Whitney U Test\n",
        "*   Anova\n",
        "\n",
        "\n"
      ]
    },
    {
      "cell_type": "markdown",
      "metadata": {
        "id": "Pkn-uG4cETC9"
      },
      "source": [
        "1.1  (2 POINTS) Chi-Squared Test\n",
        "\n",
        "I would use the Chi-Squared test when I want to test relationships between categorical variables. I would also use it to test expected vs observed frequencies.\n"
      ]
    },
    {
      "cell_type": "markdown",
      "metadata": {
        "id": "Lxfrp1xuEYzi"
      },
      "source": [
        "1.2  (2 POINTS) Z-Test\n",
        "\n",
        "I would use the Z-Test when testing a hypothesis about a population mean and also know the population variance or have a very large sample size.\n"
      ]
    },
    {
      "cell_type": "markdown",
      "metadata": {
        "id": "NbsWX4fxEZBg"
      },
      "source": [
        "1.3  (2 POINTS) T-Test\n",
        "\n",
        "\n",
        "I would use the T-Test in a similar scenario to Z test except when population variance is unknown and sample size is small."
      ]
    },
    {
      "cell_type": "markdown",
      "metadata": {
        "id": "YegV9lSFEZO6"
      },
      "source": [
        "1.4  (2 POINTS) Man-Whitney U Test\n",
        "\n",
        "I would use the Man-Whitney U Test when comparing distributions of two independent groups without assuming normality."
      ]
    },
    {
      "cell_type": "markdown",
      "metadata": {
        "id": "mpPZpmtMEZfS"
      },
      "source": [
        "1.5  (2 POINTS) ANOVA Test\n",
        "\n",
        "I would use an ANOVA test when I want to see if there are significant differecnes across the means of 3 or more groups\n"
      ]
    },
    {
      "cell_type": "markdown",
      "metadata": {
        "id": "jdYe6uWWKPtd"
      },
      "source": [
        "**1.6 (4 POINTS) :** Explain the statistical interpretation of a p-value. What is a p-value? What does it mean? Be sure to explain beyond just \"rejecting or failing to reject the null hypothesis.\"\n"
      ]
    },
    {
      "cell_type": "markdown",
      "metadata": {
        "id": "9zhdjJyjK1D7"
      },
      "source": [
        "A p-value is the probability of observing data as extreme or more extreme than what was originally obsderved, assuming the null hypothesis is true. A small p-value indicates that the data observed would be very unlikely under the null which provides evidence against it. A large p-value suggests data is consistent with the null but does not prove the null is true. "
      ]
    },
    {
      "cell_type": "markdown",
      "metadata": {
        "id": "va2vA-in5dWy"
      },
      "source": [
        "##Q2)  (2 POINTS) Create a DataFrame and Display"
      ]
    },
    {
      "cell_type": "code",
      "execution_count": 37,
      "metadata": {
        "id": "Ijr5bfGL5_l1"
      },
      "outputs": [],
      "source": [
        "import pandas as pd\n",
        "import matplotlib.pyplot as plt"
      ]
    },
    {
      "cell_type": "markdown",
      "metadata": {
        "id": "vqbjlGP6xFnm"
      },
      "source": [
        "### We are creating a DataFrame `df`. Load `colleges.csv` and display the DataFrame below.\n",
        "This college dataset contains a list of American colleges and their rankings, along with other details such as region, college type, student-to-faculty ratio, etc. In the sections below, you will develop hypotheses, test them, and draw conclusions.  "
      ]
    },
    {
      "cell_type": "code",
      "execution_count": 39,
      "metadata": {
        "id": "gYOPX768xFnm"
      },
      "outputs": [
        {
          "data": {
            "text/html": [
              "<div>\n",
              "<style scoped>\n",
              "    .dataframe tbody tr th:only-of-type {\n",
              "        vertical-align: middle;\n",
              "    }\n",
              "\n",
              "    .dataframe tbody tr th {\n",
              "        vertical-align: top;\n",
              "    }\n",
              "\n",
              "    .dataframe thead th {\n",
              "        text-align: right;\n",
              "    }\n",
              "</style>\n",
              "<table border=\"1\" class=\"dataframe\">\n",
              "  <thead>\n",
              "    <tr style=\"text-align: right;\">\n",
              "      <th></th>\n",
              "      <th>description</th>\n",
              "      <th>rank</th>\n",
              "      <th>organizationName</th>\n",
              "      <th>state</th>\n",
              "      <th>studentPopulation</th>\n",
              "      <th>campusSetting</th>\n",
              "      <th>medianBaseSalary</th>\n",
              "      <th>longitude</th>\n",
              "      <th>latitude</th>\n",
              "      <th>website</th>\n",
              "      <th>...</th>\n",
              "      <th>yearFounded</th>\n",
              "      <th>stateCode</th>\n",
              "      <th>collegeType</th>\n",
              "      <th>carnegieClassification</th>\n",
              "      <th>studentFacultyRatio</th>\n",
              "      <th>totalStudentPop</th>\n",
              "      <th>undergradPop</th>\n",
              "      <th>totalGrantAid</th>\n",
              "      <th>percentOfStudentsFinAid</th>\n",
              "      <th>percentOfStudentsGrant</th>\n",
              "    </tr>\n",
              "  </thead>\n",
              "  <tbody>\n",
              "    <tr>\n",
              "      <th>0</th>\n",
              "      <td>A leading global research university, MIT attr...</td>\n",
              "      <td>1</td>\n",
              "      <td>Massachusetts Institute of Technology</td>\n",
              "      <td>MA</td>\n",
              "      <td>12195</td>\n",
              "      <td>Urban</td>\n",
              "      <td>173700.0</td>\n",
              "      <td>-71.093539</td>\n",
              "      <td>42.359006</td>\n",
              "      <td>http://web.mit.edu</td>\n",
              "      <td>...</td>\n",
              "      <td>1861.0</td>\n",
              "      <td>MA</td>\n",
              "      <td>Private not-for-profit</td>\n",
              "      <td>Doctoral Universities: Very High Research Acti...</td>\n",
              "      <td>3</td>\n",
              "      <td>12195</td>\n",
              "      <td>4582</td>\n",
              "      <td>35299332.0</td>\n",
              "      <td>75.0</td>\n",
              "      <td>60.0</td>\n",
              "    </tr>\n",
              "    <tr>\n",
              "      <th>1</th>\n",
              "      <td>Stanford University sits just outside of Palo ...</td>\n",
              "      <td>2</td>\n",
              "      <td>Stanford University</td>\n",
              "      <td>CA</td>\n",
              "      <td>20961</td>\n",
              "      <td>Suburban</td>\n",
              "      <td>173500.0</td>\n",
              "      <td>-122.168924</td>\n",
              "      <td>37.431370</td>\n",
              "      <td>http://www.stanford.edu</td>\n",
              "      <td>...</td>\n",
              "      <td>1891.0</td>\n",
              "      <td>CA</td>\n",
              "      <td>Private not-for-profit</td>\n",
              "      <td>Doctoral Universities: Very High Research Acti...</td>\n",
              "      <td>4</td>\n",
              "      <td>20961</td>\n",
              "      <td>8464</td>\n",
              "      <td>51328461.0</td>\n",
              "      <td>70.0</td>\n",
              "      <td>55.0</td>\n",
              "    </tr>\n",
              "    <tr>\n",
              "      <th>2</th>\n",
              "      <td>One of the top public universities in the coun...</td>\n",
              "      <td>2</td>\n",
              "      <td>University of California, Berkeley</td>\n",
              "      <td>CA</td>\n",
              "      <td>45878</td>\n",
              "      <td>Urban</td>\n",
              "      <td>154500.0</td>\n",
              "      <td>-122.258393</td>\n",
              "      <td>37.869236</td>\n",
              "      <td>http://www.berkeley.edu</td>\n",
              "      <td>...</td>\n",
              "      <td>1868.0</td>\n",
              "      <td>CA</td>\n",
              "      <td>Public</td>\n",
              "      <td>Doctoral Universities: Very High Research Acti...</td>\n",
              "      <td>19</td>\n",
              "      <td>45878</td>\n",
              "      <td>33208</td>\n",
              "      <td>64495611.0</td>\n",
              "      <td>63.0</td>\n",
              "      <td>53.0</td>\n",
              "    </tr>\n",
              "    <tr>\n",
              "      <th>3</th>\n",
              "      <td>Princeton is a leading private research univer...</td>\n",
              "      <td>4</td>\n",
              "      <td>Princeton University</td>\n",
              "      <td>NJ</td>\n",
              "      <td>8532</td>\n",
              "      <td>Urban</td>\n",
              "      <td>167600.0</td>\n",
              "      <td>-74.659119</td>\n",
              "      <td>40.349855</td>\n",
              "      <td>http://www.princeton.edu</td>\n",
              "      <td>...</td>\n",
              "      <td>1746.0</td>\n",
              "      <td>NJ</td>\n",
              "      <td>Private not-for-profit</td>\n",
              "      <td>Doctoral Universities: Very High Research Acti...</td>\n",
              "      <td>4</td>\n",
              "      <td>8532</td>\n",
              "      <td>5516</td>\n",
              "      <td>44871096.0</td>\n",
              "      <td>62.0</td>\n",
              "      <td>61.0</td>\n",
              "    </tr>\n",
              "    <tr>\n",
              "      <th>4</th>\n",
              "      <td>Located in upper Manhattan, Columbia Universit...</td>\n",
              "      <td>5</td>\n",
              "      <td>Columbia University</td>\n",
              "      <td>NY</td>\n",
              "      <td>33882</td>\n",
              "      <td>Urban</td>\n",
              "      <td>148800.0</td>\n",
              "      <td>-73.961288</td>\n",
              "      <td>40.806515</td>\n",
              "      <td>http://www.columbia.edu</td>\n",
              "      <td>...</td>\n",
              "      <td>1754.0</td>\n",
              "      <td>NY</td>\n",
              "      <td>Private not-for-profit</td>\n",
              "      <td>Doctoral Universities: Very High Research Acti...</td>\n",
              "      <td>6</td>\n",
              "      <td>33882</td>\n",
              "      <td>8689</td>\n",
              "      <td>44615007.0</td>\n",
              "      <td>58.0</td>\n",
              "      <td>54.0</td>\n",
              "    </tr>\n",
              "  </tbody>\n",
              "</table>\n",
              "<p>5 rows × 25 columns</p>\n",
              "</div>"
            ],
            "text/plain": [
              "                                         description  rank  \\\n",
              "0  A leading global research university, MIT attr...     1   \n",
              "1  Stanford University sits just outside of Palo ...     2   \n",
              "2  One of the top public universities in the coun...     2   \n",
              "3  Princeton is a leading private research univer...     4   \n",
              "4  Located in upper Manhattan, Columbia Universit...     5   \n",
              "\n",
              "                        organizationName state  studentPopulation  \\\n",
              "0  Massachusetts Institute of Technology    MA              12195   \n",
              "1                    Stanford University    CA              20961   \n",
              "2     University of California, Berkeley    CA              45878   \n",
              "3                   Princeton University    NJ               8532   \n",
              "4                    Columbia University    NY              33882   \n",
              "\n",
              "  campusSetting  medianBaseSalary   longitude   latitude  \\\n",
              "0         Urban          173700.0  -71.093539  42.359006   \n",
              "1      Suburban          173500.0 -122.168924  37.431370   \n",
              "2         Urban          154500.0 -122.258393  37.869236   \n",
              "3         Urban          167600.0  -74.659119  40.349855   \n",
              "4         Urban          148800.0  -73.961288  40.806515   \n",
              "\n",
              "                    website  ... yearFounded stateCode  \\\n",
              "0        http://web.mit.edu  ...      1861.0        MA   \n",
              "1   http://www.stanford.edu  ...      1891.0        CA   \n",
              "2   http://www.berkeley.edu  ...      1868.0        CA   \n",
              "3  http://www.princeton.edu  ...      1746.0        NJ   \n",
              "4   http://www.columbia.edu  ...      1754.0        NY   \n",
              "\n",
              "              collegeType                             carnegieClassification  \\\n",
              "0  Private not-for-profit  Doctoral Universities: Very High Research Acti...   \n",
              "1  Private not-for-profit  Doctoral Universities: Very High Research Acti...   \n",
              "2                  Public  Doctoral Universities: Very High Research Acti...   \n",
              "3  Private not-for-profit  Doctoral Universities: Very High Research Acti...   \n",
              "4  Private not-for-profit  Doctoral Universities: Very High Research Acti...   \n",
              "\n",
              "  studentFacultyRatio  totalStudentPop undergradPop totalGrantAid  \\\n",
              "0                   3            12195         4582    35299332.0   \n",
              "1                   4            20961         8464    51328461.0   \n",
              "2                  19            45878        33208    64495611.0   \n",
              "3                   4             8532         5516    44871096.0   \n",
              "4                   6            33882         8689    44615007.0   \n",
              "\n",
              "  percentOfStudentsFinAid  percentOfStudentsGrant  \n",
              "0                    75.0                    60.0  \n",
              "1                    70.0                    55.0  \n",
              "2                    63.0                    53.0  \n",
              "3                    62.0                    61.0  \n",
              "4                    58.0                    54.0  \n",
              "\n",
              "[5 rows x 25 columns]"
            ]
          },
          "execution_count": 39,
          "metadata": {},
          "output_type": "execute_result"
        }
      ],
      "source": [
        "# Your code here\n",
        "\n",
        "df = pd.read_csv(\"colleges.csv\")\n",
        "\n",
        "df.head()"
      ]
    },
    {
      "cell_type": "markdown",
      "metadata": {
        "id": "sc36rSvHxFnn"
      },
      "source": [
        "**TASK 2.1 (2 POINTS):** Some entries of the dataframe are NaN. remove those entries."
      ]
    },
    {
      "cell_type": "code",
      "execution_count": 40,
      "metadata": {
        "id": "uGDjmtvMxFnn"
      },
      "outputs": [],
      "source": [
        "# Your code here\n",
        "\n",
        "df = df.dropna()"
      ]
    },
    {
      "cell_type": "markdown",
      "metadata": {
        "id": "gcqr3fjkxFnn"
      },
      "source": [
        "#Q3)  (8 POINTS) Hypothesis Testing"
      ]
    },
    {
      "cell_type": "markdown",
      "metadata": {
        "id": "vJseQzaaxFnn"
      },
      "source": [
        "Try to find relationships in this dataset through hypothesis testing. For each hypothesis test:\n",
        "\n",
        "- First chose a null hypothesis, or a statement that there is no effect between different variables, that serves as a default assumption.\n",
        "\n",
        "- Then chose an alternative hypothesis, or a statement that suggests that there is a correlation between different variables.\n",
        "\n",
        "For the questions below, assume $\\alpha = 0.05$."
      ]
    },
    {
      "cell_type": "markdown",
      "metadata": {
        "id": "TJlwAeQCxFnn"
      },
      "source": [
        "## First Hypothesis"
      ]
    },
    {
      "cell_type": "markdown",
      "metadata": {
        "id": "KTzMNuzOxFnn"
      },
      "source": [
        "- HO: The region of the college does not have an effect on the likelihood of the college type.\n",
        "\n",
        "- HA: The region of the college does have an effect on the likelihood of the college type."
      ]
    },
    {
      "cell_type": "markdown",
      "metadata": {
        "id": "sAJ5Ys87xFnn"
      },
      "source": [
        "Our plan is to apply a chi-squared test. You may find it helpful to consult the `scipy.stats` library's documentation:\n",
        "https://docs.scipy.org/doc/scipy/reference/stats.html"
      ]
    },
    {
      "cell_type": "markdown",
      "metadata": {
        "id": "ejZSrDUVxFnn"
      },
      "source": [
        "Contingency table is a table used in statistics to display the frequency distribution of variables. It will help us perform a chi-squared test on our data. You can find more information on contingency table here - https://en.wikipedia.org/wiki/Contingency_table"
      ]
    },
    {
      "cell_type": "markdown",
      "metadata": {
        "id": "XdZi1x-UxFnn"
      },
      "source": [
        "**TASK 3.1 (2 POINTS)**: Create a contingency table and display it.\n",
        "\n"
      ]
    },
    {
      "cell_type": "code",
      "execution_count": 51,
      "metadata": {
        "id": "Mge-6Jh2xFnn"
      },
      "outputs": [
        {
          "data": {
            "text/html": [
              "<div>\n",
              "<style scoped>\n",
              "    .dataframe tbody tr th:only-of-type {\n",
              "        vertical-align: middle;\n",
              "    }\n",
              "\n",
              "    .dataframe tbody tr th {\n",
              "        vertical-align: top;\n",
              "    }\n",
              "\n",
              "    .dataframe thead th {\n",
              "        text-align: right;\n",
              "    }\n",
              "</style>\n",
              "<table border=\"1\" class=\"dataframe\">\n",
              "  <thead>\n",
              "    <tr style=\"text-align: right;\">\n",
              "      <th>collegeType</th>\n",
              "      <th>Private not-for-profit</th>\n",
              "      <th>Public</th>\n",
              "    </tr>\n",
              "    <tr>\n",
              "      <th>region</th>\n",
              "      <th></th>\n",
              "      <th></th>\n",
              "    </tr>\n",
              "  </thead>\n",
              "  <tbody>\n",
              "    <tr>\n",
              "      <th>Midwest</th>\n",
              "      <td>54</td>\n",
              "      <td>37</td>\n",
              "    </tr>\n",
              "    <tr>\n",
              "      <th>Northeast</th>\n",
              "      <td>109</td>\n",
              "      <td>39</td>\n",
              "    </tr>\n",
              "    <tr>\n",
              "      <th>South</th>\n",
              "      <td>37</td>\n",
              "      <td>57</td>\n",
              "    </tr>\n",
              "    <tr>\n",
              "      <th>West</th>\n",
              "      <td>37</td>\n",
              "      <td>52</td>\n",
              "    </tr>\n",
              "  </tbody>\n",
              "</table>\n",
              "</div>"
            ],
            "text/plain": [
              "collegeType  Private not-for-profit  Public\n",
              "region                                     \n",
              "Midwest                          54      37\n",
              "Northeast                       109      39\n",
              "South                            37      57\n",
              "West                             37      52"
            ]
          },
          "execution_count": 51,
          "metadata": {},
          "output_type": "execute_result"
        }
      ],
      "source": [
        "# Your code here\n",
        "\n",
        "ct = pd.crosstab(df[\"region\"], df[\"collegeType\"])\n",
        "\n",
        "ct"
      ]
    },
    {
      "cell_type": "markdown",
      "metadata": {
        "id": "-299BtA5xFno"
      },
      "source": [
        "**TASK 3.2 (2 POINTS)**: Why would we consider using a chi-squared test specifically (as opposed to some other hypothesis test)?"
      ]
    },
    {
      "cell_type": "markdown",
      "metadata": {
        "id": "z6BLDJ7kxFno"
      },
      "source": [
        "> Write down your answer.\n",
        ">\n",
        "\n",
        "We would use this type of test because both varaibles are categorical and the test is designed to test whether there is a significant association between to categorical variables."
      ]
    },
    {
      "cell_type": "markdown",
      "metadata": {
        "id": "C_4Y0c3rxFno"
      },
      "source": [
        "**TASK 3.3 (2 POINTS)**: Create a plot showing the relationship between the regions and the no. of private colleges in it."
      ]
    },
    {
      "cell_type": "code",
      "execution_count": 52,
      "metadata": {
        "id": "X9I0g6Q7xFnq"
      },
      "outputs": [
        {
          "data": {
            "image/png": "[encoded data removed]",
            "text/plain": [
              "<Figure size 640x480 with 1 Axes>"
            ]
          },
          "metadata": {},
          "output_type": "display_data"
        }
      ],
      "source": [
        "# Any graph that can be easily identified as the prompt above is suffice\n",
        "\n",
        "\n",
        "import matplotlib.pyplot as plt\n",
        "\n",
        "private_counts = df[df[\"collegeType\"] == \"Private not-for-profit\"][\"region\"].value_counts()\n",
        "\n",
        "private_counts.plot(kind=\"bar\", color=\"skyblue\", edgecolor=\"black\")\n",
        "\n",
        "plt.title(\"Number of Private Colleges by Region\")\n",
        "plt.xlabel(\"Region\")\n",
        "plt.ylabel(\"Number of Private Colleges\")\n",
        "\n",
        "plt.show()\n"
      ]
    },
    {
      "cell_type": "markdown",
      "metadata": {
        "id": "Mlzi9e3jxFnq"
      },
      "source": [
        "**TASK 3.4 (2 POINTS)**: Explain what you can infer from your plot"
      ]
    },
    {
      "cell_type": "markdown",
      "metadata": {
        "id": "6C0XA1bRxFnq"
      },
      "source": [
        "From the bar plot, we see the Northeast region has the highest number of private colleges by a relatively large margin. This graph suggests that private colleges are not evenly distirbuted across the US regions and are much more concentrated in the Northeast."
      ]
    },
    {
      "cell_type": "markdown",
      "metadata": {
        "id": "xf8VFmFuxFnq"
      },
      "source": [
        "#Q4) (5 POINTS) Conduct the chi-squared test"
      ]
    },
    {
      "cell_type": "markdown",
      "metadata": {
        "id": "G4L1JOyaxFnq"
      },
      "source": [
        "**TASK: 4.1 (2 POINTS):** Display the p-value of applying the chi-squared test using the `chi2_contingency()` function."
      ]
    },
    {
      "cell_type": "code",
      "execution_count": 57,
      "metadata": {
        "id": "b0o_ZJ93xFnq"
      },
      "outputs": [
        {
          "name": "stdout",
          "output_type": "stream",
          "text": [
            "p-value: 4.1236859547961256e-08\n"
          ]
        }
      ],
      "source": [
        "# Your code here\n",
        "from scipy.stats import chi2_contingency\n",
        "chi2, p, dof, expected = chi2_contingency(ct)\n",
        "\n",
        "print(\"p-value:\", p)"
      ]
    },
    {
      "cell_type": "markdown",
      "metadata": {
        "id": "egAsKCedxFnq"
      },
      "source": [
        "**TASK: 4.2  (3 POINTS)**: Based on the p-value, determine whether to reject or fail to reject the null hypothesis. Explain your answer."
      ]
    },
    {
      "cell_type": "markdown",
      "metadata": {
        "id": "7zGZziq1xFnq"
      },
      "source": [
        "Since the p-value is far below .05, the null hypothesis is rejected. THis means that here is strong statisitcal evidence that the region of a college is assciated with its college type. "
      ]
    },
    {
      "cell_type": "markdown",
      "metadata": {
        "id": "Z7KycKn1xFnq"
      },
      "source": [
        "#Q5) (3 POINTS) A New Hypothesis\n",
        "\n",
        "\n"
      ]
    },
    {
      "cell_type": "markdown",
      "metadata": {
        "id": "aq50I4tfxFnq"
      },
      "source": [
        "Now create a new hypothesis test for whether the campus setting has an effect on the total student population. (Assume $\\alpha=0.05$)."
      ]
    },
    {
      "cell_type": "markdown",
      "metadata": {
        "id": "hZ2FFcYxxFnq"
      },
      "source": [
        "**TASK 5.1  (3 POINTS)**: Write down your null and alternative hypotheses:"
      ]
    },
    {
      "cell_type": "markdown",
      "metadata": {
        "id": "K1mWab_kxFnq"
      },
      "source": [
        "Null hypothesis: The mean student population is the same across all campus settings. Campus setting has no effect on student population.\n",
        "\n",
        "\n",
        "\n",
        "Alternative hypothesis: At least one campus setting has a different mean student population compared to the others. Campus setting does have an effect on student population."
      ]
    },
    {
      "cell_type": "markdown",
      "metadata": {
        "id": "za_l19WtxFnr"
      },
      "source": [
        "#Q6) (7 POINTS) Hypothesis Testing\n"
      ]
    },
    {
      "cell_type": "markdown",
      "metadata": {
        "id": "zs0sI7xtxFnr"
      },
      "source": [
        "**TASK 6.0**: Split the data into 3 different dataframes based on campus setting."
      ]
    },
    {
      "cell_type": "code",
      "execution_count": 67,
      "metadata": {
        "id": "ZMbBhrotxFnr"
      },
      "outputs": [],
      "source": [
        "# YOUR CODE HERE\n",
        "\n",
        "rural_df = df[df[\"campusSetting\"] == \"Rural\"]\n",
        "suburban_df = df[df[\"campusSetting\"] == \"Suburban\"]\n",
        "urban_df = df[df[\"campusSetting\"] == \"Urban\"]"
      ]
    },
    {
      "cell_type": "markdown",
      "metadata": {
        "id": "W4E_BV9pxFnr"
      },
      "source": [
        "**TASK 6.1 (2 POINTS)**: Choose an appropriate hypothesis test and display the p-value of applying the that test."
      ]
    },
    {
      "cell_type": "code",
      "execution_count": 64,
      "metadata": {
        "id": "jXkIU-7QxFnr"
      },
      "outputs": [
        {
          "name": "stdout",
          "output_type": "stream",
          "text": [
            "P-value: 5.371995673405588e-09\n"
          ]
        }
      ],
      "source": [
        "# YOUR CODE HERE\n",
        "from scipy.stats import f_oneway\n",
        "\n",
        "# Apply one-way ANOVA test\n",
        "f_stat, p_value = f_oneway(rural_df[\"totalStudentPop\"],  suburban_df[\"totalStudentPop\"],  urban_df[\"totalStudentPop\"])\n",
        "\n",
        "print(\"P-value:\", p_value)\n"
      ]
    },
    {
      "cell_type": "markdown",
      "metadata": {
        "id": "l2mibvwoxFnr"
      },
      "source": [
        "**TASK 6.2 \\(2 POINTS)**: Create a graph(s) using `matplotlib` to show the relationship between campus setting and total student population.\n"
      ]
    },
    {
      "cell_type": "code",
      "execution_count": 66,
      "metadata": {
        "id": "OZMWcPe5xFnr"
      },
      "outputs": [
        {
          "data": {
            "image/png": "[encoded data removed]",
            "text/plain": [
              "<Figure size 640x480 with 1 Axes>"
            ]
          },
          "metadata": {},
          "output_type": "display_data"
        }
      ],
      "source": [
        "# YOUR CODE HERE\n",
        "\n",
        "import matplotlib.pyplot as plt\n",
        "\n",
        "df.boxplot(column=\"totalStudentPop\", by=\"campusSetting\", grid=False)\n",
        "\n",
        "plt.title(\"Total Student Population by Campus Setting\")\n",
        "plt.xlabel(\"Campus Setting\")\n",
        "plt.ylabel(\"Total Student Population\")\n",
        "plt.show()"
      ]
    },
    {
      "cell_type": "markdown",
      "metadata": {
        "id": "g0Um94_oxFnr"
      },
      "source": [
        "**TASK 6.3 (3 POINTS)**: Based on the p-value, determine whether to reject or fail to reject the null hypothesis. Explain your answer."
      ]
    },
    {
      "cell_type": "markdown",
      "metadata": {
        "id": "GX2XXD6nxFnr"
      },
      "source": [
        "Based on the p-value being far below .05, ther data provides storng evidence against the null hypothesis. This means the total student population is significantly different across campus settings. Campus setting has a strong effect on student population size. "
      ]
    },
    {
      "cell_type": "markdown",
      "metadata": {
        "id": "BhaiFV4ExFns"
      },
      "source": [
        "#*Q7)* (2 POINTS) Post Hoc Tests"
      ]
    },
    {
      "cell_type": "markdown",
      "metadata": {
        "id": "n0-x_HCFxFns"
      },
      "source": [
        "**TASK 7.1 (2 POINTS)**: Why might we need post-hoc tests in this scenario?"
      ]
    },
    {
      "cell_type": "markdown",
      "metadata": {
        "id": "VIwW7JQrxFns"
      },
      "source": [
        "We need post-hoc tests beacause ANOVA only indicates that a difference exists bnut not which groups are difference. IN this scenario, we would be able to compare student popujlations between specific campus settings. It would be helpful to perform more pairwise comparisons where we can pinpoint where differences lie. "
      ]
    },
    {
      "cell_type": "markdown",
      "metadata": {
        "id": "Sro6I621xFns"
      },
      "source": [
        "**BONUS TASK 7.2 (2 POINTS)**: Apply a post-hoc test of your choice"
      ]
    },
    {
      "cell_type": "code",
      "execution_count": null,
      "metadata": {
        "id": "8rTml3SFxFns"
      },
      "outputs": [
        {
          "name": "stdout",
          "output_type": "stream",
          "text": [
            "      Multiple Comparison of Means - Tukey HSD, FWER=0.05      \n",
            "===============================================================\n",
            " group1   group2   meandiff  p-adj    lower     upper    reject\n",
            "---------------------------------------------------------------\n",
            "   Rural Suburban  5344.6104 0.0887  -609.179 11298.3998  False\n",
            "   Rural    Urban 12722.7072    0.0 7442.3704 18003.0439   True\n",
            "Suburban    Urban  7378.0967 0.0002 3096.7179 11659.4756   True\n",
            "---------------------------------------------------------------\n"
          ]
        }
      ],
      "source": [
        "# Your code here\n",
        "from statsmodels.stats.multicomp import pairwise_tukeyhsd\n",
        "\n",
        "tukey = pairwise_tukeyhsd(endog=df[\"totalStudentPop\"], groups=df[\"campusSetting\"], alpha=0.05)\n",
        "\n",
        "print(tukey)\n"
      ]
    },
    {
      "cell_type": "markdown",
      "metadata": {
        "id": "nXlCEG3oxFns"
      },
      "source": [
        "\n",
        "The Tukey post-hoc tests shows urban campuses have significantly larger student populations than both the rural and suburban campuses. There was no sigificant differecne between rural and suburban campuses. This confirms that the effect found in ANOVA is mainly driven by urban colleges having much larger student bodies. "
      ]
    },
    {
      "cell_type": "markdown",
      "metadata": {
        "id": "QOGvXsMMxFns"
      },
      "source": [
        "#*Q8)* (19 POINTS) Hypothesis Test"
      ]
    },
    {
      "cell_type": "markdown",
      "metadata": {
        "id": "XMLrOKZuxFns"
      },
      "source": [
        "Now create a new hypothesis test for whether the total grant aid has an affect on college ranking. (Assume $\\alpha=0.05$)."
      ]
    },
    {
      "cell_type": "markdown",
      "metadata": {
        "id": "MFF_U9AWxFns"
      },
      "source": [
        "**TASK 8.1 (3 POINTS):** Write down the null and alternative hypotheses below."
      ]
    },
    {
      "cell_type": "markdown",
      "metadata": {
        "id": "XUxyOW_ixFns"
      },
      "source": [
        "Null: There is no relationship between total grant aid and college ranking. Total grant aid does notr affect rank.\n",
        "\n",
        "Alternative: There is a relationship between total grant aid and college ranking. Total grant aid affects rank either positively or negatively."
      ]
    },
    {
      "cell_type": "markdown",
      "metadata": {
        "id": "wHWLCbAUxFns"
      },
      "source": [
        "**TASK 8.2 (2 POINTS)**: Create a plot using `matplotlib` that visualizes your hypothesis."
      ]
    },
    {
      "cell_type": "code",
      "execution_count": null,
      "metadata": {
        "id": "xBmWdOcyxFns"
      },
      "outputs": [
        {
          "data": {
            "image/png": "[encoded data removed]",
            "text/plain": [
              "<Figure size 640x480 with 1 Axes>"
            ]
          },
          "metadata": {},
          "output_type": "display_data"
        }
      ],
      "source": [
        "# YOUR CODE HERE\n",
        "\n",
        "import matplotlib.pyplot as plt\n",
        "import numpy as np\n",
        "\n",
        "x = df[\"totalGrantAid\"]\n",
        "y = df[\"rank\"]\n",
        "\n",
        "plt.scatter(x, y, alpha=0.6, color=\"blue\", edgecolor=\"black\")\n",
        "plt.xlabel(\"Total Grant Aid\")\n",
        "plt.ylabel(\"College Rank\")\n",
        "plt.title(\"Relationship between Total Grant Aid and College Rank\")\n",
        "\n",
        "m, b = np.polyfit(x, y, 1)\n",
        "plt.plot(x, m*x + b, color=\"red\", linewidth=2, label=\"Best Fit Line\")\n",
        "\n",
        "plt.legend()\n",
        "plt.show()\n"
      ]
    },
    {
      "cell_type": "markdown",
      "metadata": {
        "id": "StNwKUVJxFnt"
      },
      "source": [
        "**TASK 8.3 (3 POINTS):** Apply an appropriate hypothesis test and find the p-value of it. Only for this question, you are allowed to apply a hypothesis test that we haven't covered in the Hypothesis Testing class ( hints: how about we consider finding some “relation” between them)?"
      ]
    },
    {
      "cell_type": "code",
      "execution_count": 75,
      "metadata": {
        "id": "tpdna42ixFnt"
      },
      "outputs": [
        {
          "name": "stdout",
          "output_type": "stream",
          "text": [
            "Pearson correlation coefficient: -0.42048568168564837\n",
            "P-value: 1.6476144412424221e-19\n"
          ]
        }
      ],
      "source": [
        "# YOUR CODE HERE\n",
        "from scipy.stats import pearsonr\n",
        "\n",
        "x - df[\"totalGrantAid\"]\n",
        "y = df[\"rank\"]\n",
        "\n",
        "corr, p_value = pearsonr(x, y)\n",
        "print(\"Pearson correlation coefficient:\", corr)\n",
        "print(\"P-value:\", p_value)\n"
      ]
    },
    {
      "cell_type": "markdown",
      "metadata": {
        "id": "rFYuzjUWxFnt"
      },
      "source": [
        "**TASK 8.4 (3 POINTS)**: Based on the p-value, determine whether to reject or fail to reject the null hypothesis. Explain your answer."
      ]
    },
    {
      "cell_type": "markdown",
      "metadata": {
        "id": "vG-EBQjrxFnt"
      },
      "source": [
        "\n",
        "\n",
        "Since the p-value is below .05 we can reject the null hypothesis. This means there is a strong statistical evidence of a relationship between grant aid and rank. THe negative correlation suggests higher grant aid is associated with better (in this case, a lower number) college rankings. "
      ]
    },
    {
      "cell_type": "markdown",
      "metadata": {
        "id": "kyAgGFmExFnt"
      },
      "source": [
        "**TASK 8.5 (3 POINTS)**: Based on your previous answer, can you conclude that increasing grant aid will change a college's ranking? What is experimental procedure required to reach this conclusion?"
      ]
    },
    {
      "cell_type": "markdown",
      "metadata": {
        "id": "6VwlIpPfxFnt"
      },
      "source": [
        "Correlation does not equal causation. EVen though colleges with more grant aid tend to have better rankings, thsi test cannot conclusively prove that increasing grant aid will mean an improvemnt in rank. THere could be confounding variables that influence both grant aid and rank. \n",
        "\n",
        "\n",
        "To conclude causation, an experimental or quasi-experimental design is needed."
      ]
    },
    {
      "cell_type": "markdown",
      "metadata": {
        "id": "oLEPhp1rxFnt"
      },
      "source": [
        "**TASK 8.6 (3 POINTS)**: What kind of t-test (right-tail or left-tail) would you use to verify the following hypothesis?\n",
        "\n",
        "*H0:* There is no difference in student to faculty ratio between private and public colleges\n",
        "\n",
        "*HA:* Private colleges have a smaller student to faculty ratio\n",
        "\n",
        "Also perform the test and print your p value.\n"
      ]
    },
    {
      "cell_type": "markdown",
      "metadata": {
        "id": "OtU-m-y_xFnt"
      },
      "source": [
        "You would use an independent two-sample left-tailed t-test since th ehypothesiss specifically preidcts that private colleges have a smaller student-to-faculty ratio than public colleges."
      ]
    },
    {
      "cell_type": "code",
      "execution_count": 80,
      "metadata": {
        "id": "GeiVGY2DxFnt"
      },
      "outputs": [
        {
          "name": "stdout",
          "output_type": "stream",
          "text": [
            "Private count: 237\n",
            "Public count: 185\n",
            "T-statistic: -21.843344443005208\n",
            "One-tailed p-value: 5.82573591572242e-66\n"
          ]
        }
      ],
      "source": [
        "# your code here\n",
        "\n",
        "\n",
        "from scipy.stats import ttest_ind\n",
        "\n",
        "# Split groups\n",
        "private = df[df[\"collegeType\"] == \"Private not-for-profit\"][\"studentFacultyRatio\"]\n",
        "public = df[df[\"collegeType\"] == \"Public\"][\"studentFacultyRatio\"]\n",
        "\n",
        "print(\"Private count:\", private.count())\n",
        "print(\"Public count:\", public.count())\n",
        "\n",
        "\n",
        "t_stat, p_two_tailed = ttest_ind(private, public, equal_var=False)\n",
        "\n",
        "if t_stat < 0:\n",
        "    p_one_tailed = p_two_tailed / 2\n",
        "else:\n",
        "    p_one_tailed = 1 - (p_two_tailed / 2)\n",
        "\n",
        "print(\"T-statistic:\", t_stat)\n",
        "print(\"One-tailed p-value:\", p_one_tailed)\n"
      ]
    },
    {
      "cell_type": "markdown",
      "metadata": {
        "id": "E4B_dxvhxFnt"
      },
      "source": [
        "**TASK 8.7 (2 POINTS)**: Based on the p-value, determine whether to reject or fail to reject the null hypothesis. Explain your answer."
      ]
    },
    {
      "cell_type": "markdown",
      "metadata": {
        "id": "M-r9f5MtxFnt"
      },
      "source": [
        "Since the p-value is far below the significance level of .05, we reject the null hypothesis. THis means there is strong statistical evidence that private colleges have smaller student-to-faculty ratios than public colleges. The negative t-statistic supports this direction of difference."
      ]
    },
    {
      "cell_type": "markdown",
      "metadata": {
        "id": "9wEskV8cCmED"
      },
      "source": [
        "# THE END!"
      ]
    },
    {
      "cell_type": "markdown",
      "metadata": {
        "id": "UnOdN_WVCm2S"
      },
      "source": []
    },
    {
      "cell_type": "markdown",
      "metadata": {
        "id": "1KmVc26BCoHS"
      },
      "source": []
    },
    {
      "cell_type": "markdown",
      "metadata": {
        "id": "ikh_BU1aCozi"
      },
      "source": []
    },
    {
      "cell_type": "markdown",
      "metadata": {
        "id": "isrVn-YyCohJ"
      },
      "source": []
    },
    {
      "cell_type": "markdown",
      "metadata": {
        "id": "PlR1hx6yCpRs"
      },
      "source": []
    },
    {
      "cell_type": "markdown",
      "metadata": {
        "id": "kk5RJ9aeCnw-"
      },
      "source": []
    }
  ],
  "metadata": {
    "colab": {
      "provenance": []
    },
    "kernelspec": {
      "display_name": "Python 3",
      "language": "python",
      "name": "python3"
    },
    "language_info": {
      "codemirror_mode": {
        "name": "ipython",
        "version": 3
      },
      "file_extension": ".py",
      "mimetype": "text/x-python",
      "name": "python",
      "nbconvert_exporter": "python",
      "pygments_lexer": "ipython3",
      "version": "3.13.1"
    }
  },
  "nbformat": 4,
  "nbformat_minor": 0
}
